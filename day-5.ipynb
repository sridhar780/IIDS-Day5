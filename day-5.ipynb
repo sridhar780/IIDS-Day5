{
  "nbformat": 4,
  "nbformat_minor": 0,
  "metadata": {
    "colab": {
      "provenance": []
    },
    "kernelspec": {
      "name": "python3",
      "display_name": "Python 3"
    },
    "language_info": {
      "name": "python"
    }
  },
  "cells": [
    {
      "cell_type": "code",
      "source": [
        "#Question .21\n",
        "\n",
        "import numpy as np\n",
        "from sklearn.preprocessing import Binarizer\n",
        "\n",
        "data = np.array([[1.5, 0.7, 2.3],\n",
        "                 [2.0, 0.2, 1.8],\n",
        "                 [0.5, 0.9, 1.6]])\n",
        "\n",
        "threshold = 1.0\n",
        "binarizer = Binarizer(threshold=threshold)\n",
        "binary_data = binarizer.transform(data)\n",
        "\n",
        "print(\"Original data:\\n\", data)\n",
        "print(\"\\nBinary data (threshold = {}):\\n\".format(threshold), binary_data)\n",
        "\n"
      ],
      "metadata": {
        "colab": {
          "base_uri": "https://localhost:8080/"
        },
        "id": "K1K6LleXGbxA",
        "outputId": "030a64ba-c04e-40a8-cd57-b456cbc52ee6"
      },
      "execution_count": 6,
      "outputs": [
        {
          "output_type": "stream",
          "name": "stdout",
          "text": [
            "Original data:\n",
            " [[1.5 0.7 2.3]\n",
            " [2.  0.2 1.8]\n",
            " [0.5 0.9 1.6]]\n",
            "\n",
            "Binary data (threshold = 1.0):\n",
            " [[1. 0. 1.]\n",
            " [1. 0. 1.]\n",
            " [0. 0. 1.]]\n"
          ]
        }
      ]
    },
    {
      "cell_type": "code",
      "source": [
        "#Question .22\n",
        "\n",
        "from sklearn.datasets import load_iris\n",
        "from sklearn.model_selection import train_test_split\n",
        "from sklearn.preprocessing import StandardScaler\n",
        "from sklearn.neighbors import KNeighborsClassifier\n",
        "from sklearn.metrics import accuracy_score\n",
        "\n",
        "# Step 1: Load Data\n",
        "iris = load_iris()\n",
        "X = iris.data\n",
        "y = iris.target\n",
        "\n",
        "# Step 2: Preprocess Data (Not necessary for Iris dataset)\n",
        "\n",
        "# Step 3: Split Data\n",
        "X_train, X_test, y_train, y_test = train_test_split(X, y, test_size=0.3, random_state=42)\n",
        "\n",
        "# Step 4: Create KNN Model\n",
        "k = 3  # Number of neighbors\n",
        "knn_model = KNeighborsClassifier(n_neighbors=k)\n",
        "\n",
        "# Step 5: Train Model\n",
        "knn_model.fit(X_train, y_train)\n",
        "\n",
        "# Step 6: Evaluate Model\n",
        "y_pred = knn_model.predict(X_test)\n",
        "accuracy = accuracy_score(y_test, y_pred)\n",
        "print(\"Accuracy:\", accuracy)\n",
        "\n",
        "\n",
        "\n"
      ],
      "metadata": {
        "colab": {
          "base_uri": "https://localhost:8080/"
        },
        "id": "DJ-TLC-IFweH",
        "outputId": "2f35783b-a7f2-4de8-d632-a8a5738de9d9"
      },
      "execution_count": 4,
      "outputs": [
        {
          "output_type": "stream",
          "name": "stdout",
          "text": [
            "Accuracy: 1.0\n"
          ]
        }
      ]
    },
    {
      "cell_type": "code",
      "execution_count": 1,
      "metadata": {
        "colab": {
          "base_uri": "https://localhost:8080/"
        },
        "id": "tER5NrcVCfan",
        "outputId": "b3e7757b-df29-404c-a5cb-c77b123f9309"
      },
      "outputs": [
        {
          "output_type": "stream",
          "name": "stdout",
          "text": [
            "Shape of X_train: (120, 4)\n",
            "Shape of X_test: (30, 4)\n",
            "Shape of y_train: (120,)\n",
            "Shape of y_test: (30,)\n"
          ]
        }
      ],
      "source": [
        "#Question .23\n",
        "\n",
        "from sklearn.datasets import load_iris\n",
        "from sklearn.model_selection import train_test_split\n",
        "\n",
        "iris = load_iris()\n",
        "X = iris.data\n",
        "y = iris.target\n",
        "\n",
        "X_train, X_test, y_train, y_test = train_test_split(X, y, test_size=0.2, random_state=42)\n",
        "\n",
        "print(\"Shape of X_train:\", X_train.shape)\n",
        "print(\"Shape of X_test:\", X_test.shape)\n",
        "print(\"Shape of y_train:\", y_train.shape)\n",
        "print(\"Shape of y_test:\", y_test.shape)\n"
      ]
    },
    {
      "cell_type": "code",
      "source": [
        "# Question .24\n",
        "\n",
        "from sklearn.datasets import load_iris\n",
        "from sklearn.model_selection import train_test_split\n",
        "\n",
        "iris = load_iris()\n",
        "X = iris.data\n",
        "y = iris.target\n",
        "\n",
        "X_train, X_test, y_train, y_test = train_test_split(X, y, test_size=0.3, random_state=42)\n",
        "\n",
        "print(\"Shape of X_train:\", X_train.shape)\n",
        "print(\"Shape of X_test:\", X_test.shape)\n",
        "print(\"Shape of y_train:\", y_train.shape)\n",
        "print(\"Shape of y_test:\", y_test.shape)\n"
      ],
      "metadata": {
        "colab": {
          "base_uri": "https://localhost:8080/"
        },
        "id": "6mjWb0DGEE19",
        "outputId": "ffeb5540-7c94-4527-bc09-06f79056ef47"
      },
      "execution_count": 2,
      "outputs": [
        {
          "output_type": "stream",
          "name": "stdout",
          "text": [
            "Shape of X_train: (105, 4)\n",
            "Shape of X_test: (45, 4)\n",
            "Shape of y_train: (105,)\n",
            "Shape of y_test: (45,)\n"
          ]
        }
      ]
    },
    {
      "cell_type": "code",
      "source": [
        "#question .25\n",
        "\n",
        "import pandas as pd\n",
        "from sklearn.preprocessing import LabelEncoder\n",
        "\n",
        "iris = load_iris()\n",
        "X = iris.data\n",
        "y = iris.target\n",
        "\n",
        "label_encoder = LabelEncoder()\n",
        "y_numerical = label_encoder.fit_transform(y)\n",
        "\n",
        "iris_df = pd.DataFrame(data=X, columns=iris.feature_names)\n",
        "iris_df['species'] = y_numerical\n",
        "\n",
        "print(\"First 5 rows of the DataFrame:\")\n",
        "print(iris_df.head())\n"
      ],
      "metadata": {
        "colab": {
          "base_uri": "https://localhost:8080/"
        },
        "id": "yCSdFcT0E19G",
        "outputId": "d547ff0a-b3c0-4d3b-ee52-2745f3e1101b"
      },
      "execution_count": 3,
      "outputs": [
        {
          "output_type": "stream",
          "name": "stdout",
          "text": [
            "First 5 rows of the DataFrame:\n",
            "   sepal length (cm)  sepal width (cm)  petal length (cm)  petal width (cm)  \\\n",
            "0                5.1               3.5                1.4               0.2   \n",
            "1                4.9               3.0                1.4               0.2   \n",
            "2                4.7               3.2                1.3               0.2   \n",
            "3                4.6               3.1                1.5               0.2   \n",
            "4                5.0               3.6                1.4               0.2   \n",
            "\n",
            "   species  \n",
            "0        0  \n",
            "1        0  \n",
            "2        0  \n",
            "3        0  \n",
            "4        0  \n"
          ]
        }
      ]
    },
    {
      "cell_type": "code",
      "source": [],
      "metadata": {
        "id": "qds5uQy7G-U1"
      },
      "execution_count": null,
      "outputs": []
    }
  ]
}